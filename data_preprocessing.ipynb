{
  "nbformat": 4,
  "nbformat_minor": 0,
  "metadata": {
    "colab": {
      "name": "Data_preprocessing.ipynb",
      "provenance": []
    },
    "kernelspec": {
      "name": "python3",
      "display_name": "Python 3"
    }
  },
  "cells": [
    {
      "cell_type": "code",
      "metadata": {
        "id": "255iQRDYI-c9",
        "colab_type": "code",
        "colab": {}
      },
      "source": [
        "# Save Model Using Pickle\n",
        "import pandas\n",
        "from sklearn import model_selection"
      ],
      "execution_count": 3,
      "outputs": []
    },
    {
      "cell_type": "code",
      "metadata": {
        "id": "F0EqFoR9I_B6",
        "colab_type": "code",
        "colab": {}
      },
      "source": [
        "url = \"https://raw.githubusercontent.com/jbrownlee/Datasets/master/pima-indians-diabetes.data.csv\"\n",
        "names = ['preg', 'plas', 'pres', 'skin', 'test', 'mass', 'pedi', 'age', 'class']\n",
        "dataframe = pandas.read_csv(url, names=names)\n",
        "array = dataframe.values\n",
        "X = array[:,0:8]\n",
        "Y = array[:,8]\n",
        "test_size = 0.33\n",
        "seed = 7\n",
        "X_train, X_test, Y_train, Y_test = model_selection.train_test_split(X, Y, test_size=test_size, random_state=seed)"
      ],
      "execution_count": 4,
      "outputs": []
    },
    {
      "cell_type": "code",
      "metadata": {
        "id": "-1ECbdVZJFD4",
        "colab_type": "code",
        "colab": {}
      },
      "source": [
        "pandas.DataFrame(X_train).to_csv(\"train_x.csv\", sep='\\t', encoding='utf-8', index='false')\n",
        "pandas.DataFrame(X_test).to_csv(\"test_x.csv\", sep='\\t', encoding='utf-8', index='false')\n",
        "pandas.DataFrame(Y_train).to_csv(\"train_y.csv\", sep='\\t', encoding='utf-8', index='false')\n",
        "pandas.DataFrame(Y_test).to_csv(\"test_y.csv\", sep='\\t', encoding='utf-8', index='false')\n"
      ],
      "execution_count": 11,
      "outputs": []
    }
  ]
}